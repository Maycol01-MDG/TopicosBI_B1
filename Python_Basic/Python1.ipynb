{
 "cells": [
  {
   "cell_type": "markdown",
   "id": "9f610c02",
   "metadata": {},
   "source": [
    "# Repositorio: Aprendizaje Python\n",
    "\n",
    "## Nivel: Básico a Intermedio\n",
    "¡Hola! Soy Maycol Mondragon Delgado y este repositorio contiene material para aprender Python desde cero hasta nivel intermedio. Todos los derechos reservados ®.\n",
    "\n",
    "### 📚 Python para Big Data\n",
    "\n",
    "### 📚 Contenido del Repositorio\n",
    "1. Variables\n",
    "2. String\n",
    "3. funciones Print\n",
    "4. Loops\n",
    "5. Funciones\n",
    "6. Manejo de Excepciones  "
   ]
  },
  {
   "cell_type": "markdown",
   "id": "70d18650",
   "metadata": {},
   "source": [
    "### 1. VARIABLES"
   ]
  },
  {
   "cell_type": "code",
   "execution_count": null,
   "id": "560fa0c4",
   "metadata": {},
   "outputs": [],
   "source": [
    "## declaracion de variables \n",
    "edad = 17\n",
    "nombre = \"Juan\"\n",
    "estatura = 1.75"
   ]
  },
  {
   "cell_type": "code",
   "execution_count": null,
   "id": "c7290949",
   "metadata": {},
   "outputs": [
    {
     "data": {
      "text/plain": [
       "17"
      ]
     },
     "execution_count": 11,
     "metadata": {},
     "output_type": "execute_result"
    }
   ],
   "source": [
    "edad"
   ]
  },
  {
   "cell_type": "code",
   "execution_count": null,
   "id": "22285b6e",
   "metadata": {},
   "outputs": [
    {
     "data": {
      "text/plain": [
       "'Juan'"
      ]
     },
     "execution_count": 12,
     "metadata": {},
     "output_type": "execute_result"
    }
   ],
   "source": [
    "nombre"
   ]
  },
  {
   "cell_type": "code",
   "execution_count": null,
   "id": "8ce2deb3",
   "metadata": {},
   "outputs": [],
   "source": [
    "# conocer el tipo de dato\n",
    "type(edad)"
   ]
  },
  {
   "cell_type": "code",
   "execution_count": null,
   "id": "71c78aed",
   "metadata": {},
   "outputs": [],
   "source": [
    "# conocer el tipo de dato\n",
    "type(nombre)"
   ]
  },
  {
   "cell_type": "code",
   "execution_count": null,
   "id": "1af1dc11",
   "metadata": {},
   "outputs": [],
   "source": [
    "# cambiar tipo de variable de Int a str\n",
    "estatura = str(estatura)"
   ]
  },
  {
   "cell_type": "code",
   "execution_count": null,
   "id": "2dbb3506",
   "metadata": {},
   "outputs": [],
   "source": [
    "# cambiar tipo de variable de str a int\n",
    "estatura = int(estatura)"
   ]
  }
 ],
 "metadata": {
  "kernelspec": {
   "display_name": "myenv",
   "language": "python",
   "name": "python3"
  },
  "language_info": {
   "codemirror_mode": {
    "name": "ipython",
    "version": 3
   },
   "file_extension": ".py",
   "mimetype": "text/x-python",
   "name": "python",
   "nbconvert_exporter": "python",
   "pygments_lexer": "ipython3",
   "version": "3.13.7"
  }
 },
 "nbformat": 4,
 "nbformat_minor": 5
}
