{
 "cells": [
  {
   "cell_type": "markdown",
   "id": "9f610c02",
   "metadata": {},
   "source": [
    "# Repositorio: Aprendizaje Python\n",
    "\n",
    "## Nivel: Básico a Intermedio\n",
    "¡Hola! Soy Maycol Mondragon Delgado y este repositorio contiene material para aprender Python desde cero hasta nivel intermedio. Todos los derechos reservados ®.\n",
    "\n",
    "### 📚 Python para Big Data\n",
    "\n",
    "### 📚 Contenido del Repositorio\n",
    "1. Variables\n",
    "2. String\n",
    "3. funciones Print\n",
    "4. Loops\n",
    "5. Funciones\n",
    "6. Manejo de Excepciones  "
   ]
  },
  {
   "cell_type": "markdown",
   "id": "70d18650",
   "metadata": {},
   "source": [
    "### 1. VARIABLES"
   ]
  },
  {
   "cell_type": "code",
   "execution_count": 35,
   "id": "560fa0c4",
   "metadata": {},
   "outputs": [],
   "source": [
    "## declaracion de variables \n",
    "edad = 17\n",
    "nombre = \"Juan\"\n",
    "estatura = 1.75"
   ]
  },
  {
   "cell_type": "code",
   "execution_count": 36,
   "id": "c7290949",
   "metadata": {},
   "outputs": [
    {
     "data": {
      "text/plain": [
       "17"
      ]
     },
     "execution_count": 36,
     "metadata": {},
     "output_type": "execute_result"
    }
   ],
   "source": [
    "edad"
   ]
  },
  {
   "cell_type": "code",
   "execution_count": 37,
   "id": "22285b6e",
   "metadata": {},
   "outputs": [
    {
     "data": {
      "text/plain": [
       "'Juan'"
      ]
     },
     "execution_count": 37,
     "metadata": {},
     "output_type": "execute_result"
    }
   ],
   "source": [
    "nombre"
   ]
  },
  {
   "cell_type": "code",
   "execution_count": 38,
   "id": "6ae3b85e",
   "metadata": {},
   "outputs": [
    {
     "data": {
      "text/plain": [
       "1.75"
      ]
     },
     "execution_count": 38,
     "metadata": {},
     "output_type": "execute_result"
    }
   ],
   "source": [
    "estatura"
   ]
  },
  {
   "cell_type": "code",
   "execution_count": 39,
   "id": "8ce2deb3",
   "metadata": {},
   "outputs": [
    {
     "data": {
      "text/plain": [
       "int"
      ]
     },
     "execution_count": 39,
     "metadata": {},
     "output_type": "execute_result"
    }
   ],
   "source": [
    "# conocer el tipo de dato\n",
    "type(edad)"
   ]
  },
  {
   "cell_type": "code",
   "execution_count": 40,
   "id": "71c78aed",
   "metadata": {},
   "outputs": [
    {
     "data": {
      "text/plain": [
       "str"
      ]
     },
     "execution_count": 40,
     "metadata": {},
     "output_type": "execute_result"
    }
   ],
   "source": [
    "# conocer el tipo de dato\n",
    "type(nombre)"
   ]
  },
  {
   "cell_type": "code",
   "execution_count": 41,
   "id": "1af1dc11",
   "metadata": {},
   "outputs": [
    {
     "data": {
      "text/plain": [
       "'1.75'"
      ]
     },
     "execution_count": 41,
     "metadata": {},
     "output_type": "execute_result"
    }
   ],
   "source": [
    "# cambiar tipo de variable de Int a str\n",
    "str_estatura = str(estatura)\n",
    "str_estatura"
   ]
  },
  {
   "cell_type": "code",
   "execution_count": 42,
   "id": "2dbb3506",
   "metadata": {},
   "outputs": [
    {
     "data": {
      "text/plain": [
       "1.75"
      ]
     },
     "execution_count": 42,
     "metadata": {},
     "output_type": "execute_result"
    }
   ],
   "source": [
    "# cambiar tipo de variable de str a int\n",
    "\n",
    "estatura = float(str_estatura)\n",
    "estatura"
   ]
  },
  {
   "cell_type": "code",
   "execution_count": 57,
   "id": "a3881059",
   "metadata": {},
   "outputs": [],
   "source": [
    "text_1 = \"Hola mundo \"\n",
    "text_2 = \"5\"    \n",
    "text_3 = \" Cinco \" "
   ]
  },
  {
   "cell_type": "code",
   "execution_count": 58,
   "id": "5f5d3c5d",
   "metadata": {},
   "outputs": [
    {
     "data": {
      "text/plain": [
       "'Hola mundo '"
      ]
     },
     "execution_count": 58,
     "metadata": {},
     "output_type": "execute_result"
    }
   ],
   "source": [
    "text_1.capitalize()"
   ]
  },
  {
   "cell_type": "code",
   "execution_count": 59,
   "id": "57252d66",
   "metadata": {},
   "outputs": [
    {
     "data": {
      "text/plain": [
       "' CINCO '"
      ]
     },
     "execution_count": 59,
     "metadata": {},
     "output_type": "execute_result"
    }
   ],
   "source": [
    "text_3.upper()"
   ]
  },
  {
   "cell_type": "code",
   "execution_count": 60,
   "id": "50a0450b",
   "metadata": {},
   "outputs": [
    {
     "data": {
      "text/plain": [
       "' cinco '"
      ]
     },
     "execution_count": 60,
     "metadata": {},
     "output_type": "execute_result"
    }
   ],
   "source": [
    "text_3.lower()"
   ]
  },
  {
   "cell_type": "code",
   "execution_count": 61,
   "id": "6e0a0b18",
   "metadata": {},
   "outputs": [
    {
     "data": {
      "text/plain": [
       "'hola mundo '"
      ]
     },
     "execution_count": 61,
     "metadata": {},
     "output_type": "execute_result"
    }
   ],
   "source": [
    "# pasamos el texto a minusculas\n",
    "text_1.lower()"
   ]
  },
  {
   "cell_type": "code",
   "execution_count": 62,
   "id": "a0f7001e",
   "metadata": {},
   "outputs": [
    {
     "data": {
      "text/plain": [
       "'Hola Mundo '"
      ]
     },
     "execution_count": 62,
     "metadata": {},
     "output_type": "execute_result"
    }
   ],
   "source": [
    "# la primaera letra de cada palabra en mayuscula\n",
    "text_1.title()"
   ]
  },
  {
   "cell_type": "code",
   "execution_count": 63,
   "id": "9f907eff",
   "metadata": {},
   "outputs": [
    {
     "data": {
      "text/plain": [
       "2"
      ]
     },
     "execution_count": 63,
     "metadata": {},
     "output_type": "execute_result"
    }
   ],
   "source": [
    "#  contar cuantas veces aparece la letra \"o\" en el texto\n",
    "text_1.count(\"o\")"
   ]
  },
  {
   "cell_type": "code",
   "execution_count": 64,
   "id": "e3d51efb",
   "metadata": {},
   "outputs": [
    {
     "data": {
      "text/plain": [
       "11"
      ]
     },
     "execution_count": 64,
     "metadata": {},
     "output_type": "execute_result"
    }
   ],
   "source": [
    "# longitud del texto\n",
    "len(text_1)"
   ]
  },
  {
   "cell_type": "code",
   "execution_count": 67,
   "id": "05d0580d",
   "metadata": {},
   "outputs": [
    {
     "data": {
      "text/plain": [
       "['Hola', 'que', 'tal', 'todo', 'bien!', '']"
      ]
     },
     "execution_count": 67,
     "metadata": {},
     "output_type": "execute_result"
    }
   ],
   "source": [
    "# Divir un texto \n",
    "text_1 = \"Hola que tal todo bien! \"\n",
    "text_1.split(\" \")"
   ]
  },
  {
   "cell_type": "code",
   "execution_count": 68,
   "id": "0f02217e",
   "metadata": {},
   "outputs": [
    {
     "data": {
      "text/plain": [
       "['H', 'la que tal t', 'd', ' bien! ']"
      ]
     },
     "execution_count": 68,
     "metadata": {},
     "output_type": "execute_result"
    }
   ],
   "source": [
    "# eliminar una letra del texto\n",
    "text_1.split(\"o\")"
   ]
  },
  {
   "cell_type": "code",
   "execution_count": null,
   "id": "fecafa86",
   "metadata": {},
   "outputs": [],
   "source": [
    "# Limpieza de datos"
   ]
  }
 ],
 "metadata": {
  "kernelspec": {
   "display_name": "myenv",
   "language": "python",
   "name": "python3"
  },
  "language_info": {
   "codemirror_mode": {
    "name": "ipython",
    "version": 3
   },
   "file_extension": ".py",
   "mimetype": "text/x-python",
   "name": "python",
   "nbconvert_exporter": "python",
   "pygments_lexer": "ipython3",
   "version": "3.13.7"
  }
 },
 "nbformat": 4,
 "nbformat_minor": 5
}
