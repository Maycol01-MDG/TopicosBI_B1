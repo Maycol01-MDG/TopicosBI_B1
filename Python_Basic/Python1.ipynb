{
 "cells": [
  {
   "cell_type": "code",
   "execution_count": 4,
   "id": "a72d4414",
   "metadata": {},
   "outputs": [
    {
     "name": "stdout",
     "output_type": "stream",
     "text": [
      "hola mundo\n"
     ]
    }
   ],
   "source": [
    "print(\"hola mundo\")"
   ]
  },
  {
   "cell_type": "code",
   "execution_count": 8,
   "id": "b2644c5a",
   "metadata": {},
   "outputs": [
    {
     "name": "stdout",
     "output_type": "stream",
     "text": [
      "   ID  Edad  Salario     Ciudad\n",
      "0   1    36     2676   Arequipa\n",
      "1   2    55     4208   Arequipa\n",
      "2   3    25     4688       Lima\n",
      "3   4    25     2300  Cajamarca\n",
      "4   5    59     2719       Lima\n",
      "Número total de registros: 1000000\n"
     ]
    }
   ],
   "source": [
    "!pip install pandas numpy matplotlib seaborn --quiet\n",
    "import pandas as pd\n",
    "import numpy as np\n",
    "import matplotlib\n",
    "import seaborn as sns\n",
    "import pandas as pd\n",
    "import numpy as np\n",
    "\n",
    "# Crear 1 millón de registros simulados\n",
    "n = 1_000_000\n",
    "data = {\n",
    "    \"ID\": np.arange(1, n+1),\n",
    "    \"Edad\": np.random.randint(18, 70, n),\n",
    "    \"Salario\": np.random.randint(1000, 5000, n),\n",
    "    \"Ciudad\": np.random.choice([\"Lima\", \"Cajamarca\", \"Arequipa\", \"Trujillo\"], n)\n",
    "}\n",
    "df = pd.DataFrame(data)\n",
    "print(df.head())\n",
    "print(\"Número total de registros:\", len(df))\n"
   ]
  }
 ],
 "metadata": {
  "kernelspec": {
   "display_name": "myenv",
   "language": "python",
   "name": "python3"
  },
  "language_info": {
   "codemirror_mode": {
    "name": "ipython",
    "version": 3
   },
   "file_extension": ".py",
   "mimetype": "text/x-python",
   "name": "python",
   "nbconvert_exporter": "python",
   "pygments_lexer": "ipython3",
   "version": "3.13.7"
  }
 },
 "nbformat": 4,
 "nbformat_minor": 5
}
